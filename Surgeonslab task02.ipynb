{
 "cells": [
  {
   "cell_type": "code",
   "execution_count": 1,
   "metadata": {},
   "outputs": [],
   "source": [
    "import numpy as np\n",
    "import pandas as pd\n",
    "import matplotlib.pyplot as plt\n",
    "import seaborn as sns\n",
    "from sklearn.cluster import KMeans\n",
    "from sklearn import preprocessing\n",
    "from skmultilearn.cluster import LabelCooccurrenceGraphBuilder"
   ]
  },
  {
   "cell_type": "code",
   "execution_count": 2,
   "metadata": {},
   "outputs": [
    {
     "data": {
      "text/html": [
       "<div>\n",
       "<style scoped>\n",
       "    .dataframe tbody tr th:only-of-type {\n",
       "        vertical-align: middle;\n",
       "    }\n",
       "\n",
       "    .dataframe tbody tr th {\n",
       "        vertical-align: top;\n",
       "    }\n",
       "\n",
       "    .dataframe thead th {\n",
       "        text-align: right;\n",
       "    }\n",
       "</style>\n",
       "<table border=\"1\" class=\"dataframe\">\n",
       "  <thead>\n",
       "    <tr style=\"text-align: right;\">\n",
       "      <th></th>\n",
       "      <th>Provider_Org</th>\n",
       "      <th>code</th>\n",
       "      <th>vocab</th>\n",
       "      <th>description</th>\n",
       "      <th>severity</th>\n",
       "      <th>Encounter_ID</th>\n",
       "    </tr>\n",
       "  </thead>\n",
       "  <tbody>\n",
       "    <tr>\n",
       "      <th>0</th>\n",
       "      <td>ExactData Medical Health System</td>\n",
       "      <td>401.9</td>\n",
       "      <td>ICD9</td>\n",
       "      <td>Hypertension</td>\n",
       "      <td>mild</td>\n",
       "      <td>L8694502508698944760</td>\n",
       "    </tr>\n",
       "    <tr>\n",
       "      <th>1</th>\n",
       "      <td>ExactData Medical Health System</td>\n",
       "      <td>V70.0</td>\n",
       "      <td>ICD9</td>\n",
       "      <td>General medical examination</td>\n",
       "      <td>NaN</td>\n",
       "      <td>M3204724885018391695</td>\n",
       "    </tr>\n",
       "    <tr>\n",
       "      <th>2</th>\n",
       "      <td>ExactData Medical Health System</td>\n",
       "      <td>496</td>\n",
       "      <td>ICD9</td>\n",
       "      <td>Chronic Obstructive Pulmonary Disease</td>\n",
       "      <td>critical</td>\n",
       "      <td>C2819614934032019919</td>\n",
       "    </tr>\n",
       "    <tr>\n",
       "      <th>3</th>\n",
       "      <td>ExactData Medical Health System</td>\n",
       "      <td>401.9</td>\n",
       "      <td>ICD9</td>\n",
       "      <td>Hypertension</td>\n",
       "      <td>mild</td>\n",
       "      <td>S4571692645992867370</td>\n",
       "    </tr>\n",
       "    <tr>\n",
       "      <th>4</th>\n",
       "      <td>ExactData Medical Health System</td>\n",
       "      <td>V70.0</td>\n",
       "      <td>ICD9</td>\n",
       "      <td>General medical examination</td>\n",
       "      <td>NaN</td>\n",
       "      <td>J6262874375300991101</td>\n",
       "    </tr>\n",
       "  </tbody>\n",
       "</table>\n",
       "</div>"
      ],
      "text/plain": [
       "                      Provider_Org   code vocab  \\\n",
       "0  ExactData Medical Health System  401.9  ICD9   \n",
       "1  ExactData Medical Health System  V70.0  ICD9   \n",
       "2  ExactData Medical Health System    496  ICD9   \n",
       "3  ExactData Medical Health System  401.9  ICD9   \n",
       "4  ExactData Medical Health System  V70.0  ICD9   \n",
       "\n",
       "                             description  severity          Encounter_ID  \n",
       "0                           Hypertension      mild  L8694502508698944760  \n",
       "1            General medical examination       NaN  M3204724885018391695  \n",
       "2  Chronic Obstructive Pulmonary Disease  critical  C2819614934032019919  \n",
       "3                           Hypertension      mild  S4571692645992867370  \n",
       "4            General medical examination       NaN  J6262874375300991101  "
      ]
     },
     "execution_count": 2,
     "metadata": {},
     "output_type": "execute_result"
    }
   ],
   "source": [
    "filename = 'C:/Users/Lenovo/Documents/medical-records-10-yrs/encounter_dx.csv'\n",
    "df = pd.read_csv(filename)\n",
    "df.head()"
   ]
  },
  {
   "cell_type": "code",
   "execution_count": 3,
   "metadata": {},
   "outputs": [
    {
     "data": {
      "text/plain": [
       "array(['401.9', 'V70.0', '496', '431', '250.01', '584.9', '590.8',\n",
       "       '585.9', '250', '428', '780.99', '890.1', 'V49.77', 'V57.1',\n",
       "       '410.9', 'V49.67', '943.45', '592', '434.11', 'V49.73', 'V58.32',\n",
       "       '892.1', 'V20.2'], dtype=object)"
      ]
     },
     "execution_count": 3,
     "metadata": {},
     "output_type": "execute_result"
    }
   ],
   "source": [
    "df.code.unique()"
   ]
  },
  {
   "cell_type": "code",
   "execution_count": 4,
   "metadata": {},
   "outputs": [
    {
     "data": {
      "text/plain": [
       "array(['ExactData Medical Health System'], dtype=object)"
      ]
     },
     "execution_count": 4,
     "metadata": {},
     "output_type": "execute_result"
    }
   ],
   "source": [
    "df.Provider_Org.unique()"
   ]
  },
  {
   "cell_type": "code",
   "execution_count": 5,
   "metadata": {},
   "outputs": [
    {
     "data": {
      "text/plain": [
       "array(['L8694502508698944760', 'M3204724885018391695',\n",
       "       'C2819614934032019919', ..., 'Q8056614651118506333',\n",
       "       'S3609661337043817833', 'G1694990956422422302'], dtype=object)"
      ]
     },
     "execution_count": 5,
     "metadata": {},
     "output_type": "execute_result"
    }
   ],
   "source": [
    "df.Encounter_ID.unique()"
   ]
  },
  {
   "cell_type": "markdown",
   "metadata": {},
   "source": [
    "## Exploring Data and Removing missing values"
   ]
  },
  {
   "cell_type": "code",
   "execution_count": 6,
   "metadata": {},
   "outputs": [
    {
     "name": "stdout",
     "output_type": "stream",
     "text": [
      "<class 'pandas.core.frame.DataFrame'>\n",
      "RangeIndex: 3063 entries, 0 to 3062\n",
      "Data columns (total 6 columns):\n",
      " #   Column        Non-Null Count  Dtype \n",
      "---  ------        --------------  ----- \n",
      " 0   Provider_Org  3063 non-null   object\n",
      " 1   code          3063 non-null   object\n",
      " 2   vocab         3063 non-null   object\n",
      " 3   description   3063 non-null   object\n",
      " 4   severity      2367 non-null   object\n",
      " 5   Encounter_ID  3063 non-null   object\n",
      "dtypes: object(6)\n",
      "memory usage: 143.7+ KB\n"
     ]
    }
   ],
   "source": [
    "df.info()"
   ]
  },
  {
   "cell_type": "code",
   "execution_count": 7,
   "metadata": {},
   "outputs": [
    {
     "data": {
      "image/png": "[encoded data removed]",
      "text/plain": [
       "<Figure size 720x720 with 1 Axes>"
      ]
     },
     "metadata": {
      "needs_background": "light"
     },
     "output_type": "display_data"
    }
   ],
   "source": [
    "#description entries\n",
    "plt.figure(figsize=(10,10))\n",
    "x = df.description.value_counts()\n",
    "x.plot(kind='barh')\n",
    "plt.title('Description Column')\n",
    "plt.show()"
   ]
  },
  {
   "cell_type": "code",
   "execution_count": 8,
   "metadata": {},
   "outputs": [
    {
     "data": {
      "text/plain": [
       "Provider_Org      0\n",
       "code              0\n",
       "vocab             0\n",
       "description       0\n",
       "severity        696\n",
       "Encounter_ID      0\n",
       "dtype: int64"
      ]
     },
     "execution_count": 8,
     "metadata": {},
     "output_type": "execute_result"
    }
   ],
   "source": [
    "##checking missing values\n",
    "df.isnull().sum()"
   ]
  },
  {
   "cell_type": "code",
   "execution_count": 9,
   "metadata": {},
   "outputs": [
    {
     "data": {
      "image/png": "[encoded data removed]",
      "text/plain": [
       "<Figure size 720x720 with 1 Axes>"
      ]
     },
     "metadata": {
      "needs_background": "light"
     },
     "output_type": "display_data"
    }
   ],
   "source": [
    "df['severity'] = df['severity'].replace()\n",
    "plt.figure(figsize=(10,10))\n",
    "x = df.severity.value_counts()\n",
    "x.plot(kind='barh')\n",
    "plt.title('Severity')\n",
    "plt.show()"
   ]
  },
  {
   "cell_type": "code",
   "execution_count": 10,
   "metadata": {},
   "outputs": [
    {
     "data": {
      "text/plain": [
       "array([2, 1, 4, 3, 0])"
      ]
     },
     "execution_count": 10,
     "metadata": {},
     "output_type": "execute_result"
    }
   ],
   "source": [
    "##encoding columns like severity and description for better analysis\n",
    "\n",
    "label_encoder = preprocessing.LabelEncoder()\n",
    "  \n",
    "# Encode labels in column 'severity'.\n",
    "df['severity']= label_encoder.fit_transform(df['severity'])\n",
    "  \n",
    "df['severity'].unique()"
   ]
  },
  {
   "cell_type": "code",
   "execution_count": 11,
   "metadata": {},
   "outputs": [],
   "source": [
    "df['description']= label_encoder.fit_transform(df['description'])\n",
    "  \n",
    "df['description'].unique()\n",
    "# o_col = ['Provider_Org', 'code', 'vocab']\n",
    "df['Provider_Org'] = label_encoder.fit_transform(df['Provider_Org'])\n",
    "df['code'] = label_encoder.fit_transform(df['code'])\n",
    "df['vocab'] = label_encoder.fit_transform(df['vocab'])\n",
    "\n",
    "col = ['description', 'severity'] "
   ]
  },
  {
   "cell_type": "code",
   "execution_count": 12,
   "metadata": {},
   "outputs": [
    {
     "data": {
      "application/javascript": [
       "\n",
       "        if (window._pyforest_update_imports_cell) { window._pyforest_update_imports_cell('import sklearn'); }\n",
       "    "
      ],
      "text/plain": [
       "<IPython.core.display.Javascript object>"
      ]
     },
     "metadata": {},
     "output_type": "display_data"
    }
   ],
   "source": [
    "mat = df[col].values\n",
    "mat = np.array(mat)\n",
    "# Using sklearn\n",
    "km = sklearn.cluster.KMeans(n_clusters=8)\n",
    "y_means = km.fit_predict(mat)\n",
    "# Get cluster assignment labels\n",
    "labels = km.labels_\n",
    "# Format results as a DataFrame\n",
    "results = pd.DataFrame([df.index,labels]).T"
   ]
  },
  {
   "cell_type": "code",
   "execution_count": 13,
   "metadata": {},
   "outputs": [
    {
     "data": {
      "text/plain": [
       "<matplotlib.legend.Legend at 0x2d9ad5306d0>"
      ]
     },
     "execution_count": 13,
     "metadata": {},
     "output_type": "execute_result"
    },
    {
     "data": {
      "image/png": "[encoded data removed]",
      "text/plain": [
       "<Figure size 432x288 with 1 Axes>"
      ]
     },
     "metadata": {
      "needs_background": "light"
     },
     "output_type": "display_data"
    }
   ],
   "source": [
    "##scatter plots to find clusters of some points\n",
    "plt.scatter(mat[y_means==0,0],mat[y_means==0,1],s=50, c='purple',label=labels[0])\n",
    "plt.scatter(mat[y_means==1,0],mat[y_means==1,1],s=50, c='blue',label=labels[1])\n",
    "plt.scatter(mat[y_means==2,0],mat[y_means==2,1],s=50, c='green',label=labels[2])\n",
    "plt.legend()"
   ]
  },
  {
   "cell_type": "markdown",
   "metadata": {},
   "source": [
    "# New File"
   ]
  },
  {
   "cell_type": "code",
   "execution_count": 14,
   "metadata": {
    "scrolled": true
   },
   "outputs": [
    {
     "data": {
      "text/html": [
       "<div>\n",
       "<style scoped>\n",
       "    .dataframe tbody tr th:only-of-type {\n",
       "        vertical-align: middle;\n",
       "    }\n",
       "\n",
       "    .dataframe tbody tr th {\n",
       "        vertical-align: top;\n",
       "    }\n",
       "\n",
       "    .dataframe thead th {\n",
       "        text-align: right;\n",
       "    }\n",
       "</style>\n",
       "<table border=\"1\" class=\"dataframe\">\n",
       "  <thead>\n",
       "    <tr style=\"text-align: right;\">\n",
       "      <th></th>\n",
       "      <th>Provider_Org</th>\n",
       "      <th>Member_ID</th>\n",
       "      <th>Date_Collected</th>\n",
       "      <th>Test_ID</th>\n",
       "      <th>Specialty</th>\n",
       "      <th>Panel</th>\n",
       "      <th>Test_LOINC</th>\n",
       "      <th>Test_Name</th>\n",
       "      <th>Date_Resulted</th>\n",
       "      <th>Specimen</th>\n",
       "      <th>...</th>\n",
       "      <th>Result_Name</th>\n",
       "      <th>Result_Status</th>\n",
       "      <th>Result_Description</th>\n",
       "      <th>Numeric_Result</th>\n",
       "      <th>Units</th>\n",
       "      <th>Abnormal_Value</th>\n",
       "      <th>Reference_Range</th>\n",
       "      <th>Order_ID</th>\n",
       "      <th>Provider_ID</th>\n",
       "      <th>Encounter_ID</th>\n",
       "    </tr>\n",
       "  </thead>\n",
       "  <tbody>\n",
       "    <tr>\n",
       "      <th>0</th>\n",
       "      <td>ExactData Medical Health System</td>\n",
       "      <td>568001602-01</td>\n",
       "      <td>2005-07-05T15:54:00Z</td>\n",
       "      <td>050705 CH 76296541</td>\n",
       "      <td>NaN</td>\n",
       "      <td>False</td>\n",
       "      <td>2093-3</td>\n",
       "      <td>Cholesterol</td>\n",
       "      <td>2005-07-05T20:33:41Z</td>\n",
       "      <td>NaN</td>\n",
       "      <td>...</td>\n",
       "      <td>Cholesterol</td>\n",
       "      <td>FINAL</td>\n",
       "      <td>Cholesterol=250 mg/dL</td>\n",
       "      <td>250</td>\n",
       "      <td>mg/dL</td>\n",
       "      <td>NaN</td>\n",
       "      <td>NaN</td>\n",
       "      <td>050630-30199</td>\n",
       "      <td>695700114</td>\n",
       "      <td>X3228783097331248888</td>\n",
       "    </tr>\n",
       "    <tr>\n",
       "      <th>1</th>\n",
       "      <td>ExactData Medical Health System</td>\n",
       "      <td>568001602-01</td>\n",
       "      <td>2005-10-07T16:15:00Z</td>\n",
       "      <td>051007 CH 47988013</td>\n",
       "      <td>NaN</td>\n",
       "      <td>False</td>\n",
       "      <td>21440-3</td>\n",
       "      <td>HPV I/H Risk DNA Probe</td>\n",
       "      <td>2005-10-07T20:10:41Z</td>\n",
       "      <td>NaN</td>\n",
       "      <td>...</td>\n",
       "      <td>HPV test</td>\n",
       "      <td>FINAL</td>\n",
       "      <td>negative for HPV 16 &amp; 18</td>\n",
       "      <td>NaN</td>\n",
       "      <td>NaN</td>\n",
       "      <td>NaN</td>\n",
       "      <td>NaN</td>\n",
       "      <td>NaN</td>\n",
       "      <td>663746638</td>\n",
       "      <td>M3204724885018391695</td>\n",
       "    </tr>\n",
       "    <tr>\n",
       "      <th>2</th>\n",
       "      <td>ExactData Medical Health System</td>\n",
       "      <td>568001602-01</td>\n",
       "      <td>2005-10-07T16:15:00Z</td>\n",
       "      <td>051007 CH 04421087</td>\n",
       "      <td>NaN</td>\n",
       "      <td>False</td>\n",
       "      <td>28631-0</td>\n",
       "      <td>Visual Acuity Study</td>\n",
       "      <td>2005-10-07T17:57:09Z</td>\n",
       "      <td>NaN</td>\n",
       "      <td>...</td>\n",
       "      <td>acuity</td>\n",
       "      <td>FINAL</td>\n",
       "      <td>right eye 20/20, left eye 20/20</td>\n",
       "      <td>NaN</td>\n",
       "      <td>NaN</td>\n",
       "      <td>NaN</td>\n",
       "      <td>NaN</td>\n",
       "      <td>NaN</td>\n",
       "      <td>663746638</td>\n",
       "      <td>M3204724885018391695</td>\n",
       "    </tr>\n",
       "    <tr>\n",
       "      <th>3</th>\n",
       "      <td>ExactData Medical Health System</td>\n",
       "      <td>568001602-01</td>\n",
       "      <td>2005-10-12T21:33:00Z</td>\n",
       "      <td>051012 CH 48885833</td>\n",
       "      <td>NaN</td>\n",
       "      <td>True</td>\n",
       "      <td>24331-1</td>\n",
       "      <td>Lipid Profile</td>\n",
       "      <td>2005-10-12T23:11:57Z</td>\n",
       "      <td>NaN</td>\n",
       "      <td>...</td>\n",
       "      <td>Total cholesterol</td>\n",
       "      <td>FINAL</td>\n",
       "      <td>Total cholesterol = 180mg/dL</td>\n",
       "      <td>180</td>\n",
       "      <td>mg/dL</td>\n",
       "      <td>NaN</td>\n",
       "      <td>NaN</td>\n",
       "      <td>051007-54352</td>\n",
       "      <td>695700114</td>\n",
       "      <td>G7012345417035113309</td>\n",
       "    </tr>\n",
       "    <tr>\n",
       "      <th>4</th>\n",
       "      <td>ExactData Medical Health System</td>\n",
       "      <td>568001602-01</td>\n",
       "      <td>2005-10-12T21:33:00Z</td>\n",
       "      <td>051012 CH 48885833</td>\n",
       "      <td>NaN</td>\n",
       "      <td>True</td>\n",
       "      <td>24331-1</td>\n",
       "      <td>Lipid Profile</td>\n",
       "      <td>2005-10-12T23:11:57Z</td>\n",
       "      <td>NaN</td>\n",
       "      <td>...</td>\n",
       "      <td>LDL</td>\n",
       "      <td>FINAL</td>\n",
       "      <td>LDL = 120mg/dL</td>\n",
       "      <td>120</td>\n",
       "      <td>mg/dL</td>\n",
       "      <td>NaN</td>\n",
       "      <td>NaN</td>\n",
       "      <td>051007-54352</td>\n",
       "      <td>695700114</td>\n",
       "      <td>G7012345417035113309</td>\n",
       "    </tr>\n",
       "  </tbody>\n",
       "</table>\n",
       "<p>5 rows × 21 columns</p>\n",
       "</div>"
      ],
      "text/plain": [
       "                      Provider_Org     Member_ID        Date_Collected  \\\n",
       "0  ExactData Medical Health System  568001602-01  2005-07-05T15:54:00Z   \n",
       "1  ExactData Medical Health System  568001602-01  2005-10-07T16:15:00Z   \n",
       "2  ExactData Medical Health System  568001602-01  2005-10-07T16:15:00Z   \n",
       "3  ExactData Medical Health System  568001602-01  2005-10-12T21:33:00Z   \n",
       "4  ExactData Medical Health System  568001602-01  2005-10-12T21:33:00Z   \n",
       "\n",
       "              Test_ID  Specialty  Panel Test_LOINC               Test_Name  \\\n",
       "0  050705 CH 76296541        NaN  False     2093-3             Cholesterol   \n",
       "1  051007 CH 47988013        NaN  False    21440-3  HPV I/H Risk DNA Probe   \n",
       "2  051007 CH 04421087        NaN  False    28631-0     Visual Acuity Study   \n",
       "3  051012 CH 48885833        NaN   True    24331-1           Lipid Profile   \n",
       "4  051012 CH 48885833        NaN   True    24331-1           Lipid Profile   \n",
       "\n",
       "          Date_Resulted  Specimen  ...        Result_Name Result_Status  \\\n",
       "0  2005-07-05T20:33:41Z       NaN  ...        Cholesterol         FINAL   \n",
       "1  2005-10-07T20:10:41Z       NaN  ...           HPV test         FINAL   \n",
       "2  2005-10-07T17:57:09Z       NaN  ...             acuity         FINAL   \n",
       "3  2005-10-12T23:11:57Z       NaN  ...  Total cholesterol         FINAL   \n",
       "4  2005-10-12T23:11:57Z       NaN  ...                LDL         FINAL   \n",
       "\n",
       "                Result_Description Numeric_Result  Units Abnormal_Value  \\\n",
       "0            Cholesterol=250 mg/dL            250  mg/dL            NaN   \n",
       "1         negative for HPV 16 & 18            NaN    NaN            NaN   \n",
       "2  right eye 20/20, left eye 20/20            NaN    NaN            NaN   \n",
       "3     Total cholesterol = 180mg/dL            180  mg/dL            NaN   \n",
       "4                   LDL = 120mg/dL            120  mg/dL            NaN   \n",
       "\n",
       "   Reference_Range      Order_ID Provider_ID          Encounter_ID  \n",
       "0              NaN  050630-30199   695700114  X3228783097331248888  \n",
       "1              NaN           NaN   663746638  M3204724885018391695  \n",
       "2              NaN           NaN   663746638  M3204724885018391695  \n",
       "3              NaN  051007-54352   695700114  G7012345417035113309  \n",
       "4              NaN  051007-54352   695700114  G7012345417035113309  \n",
       "\n",
       "[5 rows x 21 columns]"
      ]
     },
     "execution_count": 14,
     "metadata": {},
     "output_type": "execute_result"
    }
   ],
   "source": [
    "filename = 'C:/Users/Lenovo/Documents/medical-records-10-yrs/lab_results.csv'\n",
    "lab_df = pd.read_csv(filename)\n",
    "lab_df.head()"
   ]
  },
  {
   "cell_type": "code",
   "execution_count": 15,
   "metadata": {},
   "outputs": [
    {
     "name": "stdout",
     "output_type": "stream",
     "text": [
      "<class 'pandas.core.frame.DataFrame'>\n",
      "RangeIndex: 7509 entries, 0 to 7508\n",
      "Data columns (total 21 columns):\n",
      " #   Column              Non-Null Count  Dtype  \n",
      "---  ------              --------------  -----  \n",
      " 0   Provider_Org        7509 non-null   object \n",
      " 1   Member_ID           7509 non-null   object \n",
      " 2   Date_Collected      7509 non-null   object \n",
      " 3   Test_ID             7509 non-null   object \n",
      " 4   Specialty           0 non-null      float64\n",
      " 5   Panel               7509 non-null   bool   \n",
      " 6   Test_LOINC          7509 non-null   object \n",
      " 7   Test_Name           7509 non-null   object \n",
      " 8   Date_Resulted       7509 non-null   object \n",
      " 9   Specimen            0 non-null      float64\n",
      " 10  Result_LOINC        7509 non-null   object \n",
      " 11  Result_Name         7509 non-null   object \n",
      " 12  Result_Status       7509 non-null   object \n",
      " 13  Result_Description  7509 non-null   object \n",
      " 14  Numeric_Result      2890 non-null   object \n",
      " 15  Units               2794 non-null   object \n",
      " 16  Abnormal_Value      0 non-null      float64\n",
      " 17  Reference_Range     0 non-null      float64\n",
      " 18  Order_ID            6010 non-null   object \n",
      " 19  Provider_ID         7509 non-null   int64  \n",
      " 20  Encounter_ID        7509 non-null   object \n",
      "dtypes: bool(1), float64(4), int64(1), object(15)\n",
      "memory usage: 1.2+ MB\n"
     ]
    }
   ],
   "source": [
    "lab_df.info()"
   ]
  },
  {
   "cell_type": "code",
   "execution_count": 16,
   "metadata": {},
   "outputs": [
    {
     "data": {
      "text/plain": [
       "Provider_Org             0\n",
       "Member_ID                0\n",
       "Date_Collected           0\n",
       "Test_ID                  0\n",
       "Specialty             7509\n",
       "Panel                    0\n",
       "Test_LOINC               0\n",
       "Test_Name                0\n",
       "Date_Resulted            0\n",
       "Specimen              7509\n",
       "Result_LOINC             0\n",
       "Result_Name              0\n",
       "Result_Status            0\n",
       "Result_Description       0\n",
       "Numeric_Result        4619\n",
       "Units                 4715\n",
       "Abnormal_Value        7509\n",
       "Reference_Range       7509\n",
       "Order_ID              1499\n",
       "Provider_ID              0\n",
       "Encounter_ID             0\n",
       "dtype: int64"
      ]
     },
     "execution_count": 16,
     "metadata": {},
     "output_type": "execute_result"
    }
   ],
   "source": [
    "lab_df.isnull().sum()"
   ]
  },
  {
   "cell_type": "code",
   "execution_count": 17,
   "metadata": {},
   "outputs": [],
   "source": [
    "##removing columns that contain all missing values\n",
    "cols = ['Specialty', 'Specimen', 'Abnormal_Value','Reference_Range']\n",
    "lab_df = lab_df.drop(cols, axis=1)"
   ]
  },
  {
   "cell_type": "code",
   "execution_count": 20,
   "metadata": {},
   "outputs": [],
   "source": [
    "##removing NaN values from remaining cols\n",
    "cols = ['Numeric_Result', 'Units','Order_ID']\n",
    "lab_df['Numeric_Result'] = lab_df['Numeric_Result'].dropna(how='any')\n",
    "lab_df['Units'] = lab_df['Units'].dropna(how='any')\n",
    "lab_df['Order_ID'] = lab_df['Order_ID'].dropna(how='any')"
   ]
  },
  {
   "cell_type": "markdown",
   "metadata": {},
   "source": [
    "## New File"
   ]
  },
  {
   "cell_type": "code",
   "execution_count": 2,
   "metadata": {},
   "outputs": [
    {
     "data": {
      "text/html": [
       "<div>\n",
       "<style scoped>\n",
       "    .dataframe tbody tr th:only-of-type {\n",
       "        vertical-align: middle;\n",
       "    }\n",
       "\n",
       "    .dataframe tbody tr th {\n",
       "        vertical-align: top;\n",
       "    }\n",
       "\n",
       "    .dataframe thead th {\n",
       "        text-align: right;\n",
       "    }\n",
       "</style>\n",
       "<table border=\"1\" class=\"dataframe\">\n",
       "  <thead>\n",
       "    <tr style=\"text-align: right;\">\n",
       "      <th></th>\n",
       "      <th>Provider_Org</th>\n",
       "      <th>Order_ID</th>\n",
       "      <th>Member_ID</th>\n",
       "      <th>Prescription</th>\n",
       "      <th>Pharmacist_ID</th>\n",
       "      <th>Pharmacy_Name</th>\n",
       "      <th>Dispense_Date</th>\n",
       "      <th>Drug_Name</th>\n",
       "      <th>Drug_NDC</th>\n",
       "      <th>Sig</th>\n",
       "      <th>Dispense_Qty</th>\n",
       "      <th>Fill_No</th>\n",
       "      <th>Fill_Status</th>\n",
       "      <th>Dose</th>\n",
       "      <th>Units</th>\n",
       "      <th>Days_Of_Supply</th>\n",
       "      <th>Encounter_ID</th>\n",
       "    </tr>\n",
       "  </thead>\n",
       "  <tbody>\n",
       "    <tr>\n",
       "      <th>0</th>\n",
       "      <td>ExactData Medical Health System</td>\n",
       "      <td>050630-23852</td>\n",
       "      <td>568001602-01</td>\n",
       "      <td>RX80452720</td>\n",
       "      <td>523808810</td>\n",
       "      <td>Corner Drug Store</td>\n",
       "      <td>2005-07-02T00:14:00Z</td>\n",
       "      <td>Hydrochlorothiazide</td>\n",
       "      <td>0172-2089-80</td>\n",
       "      <td>po qd</td>\n",
       "      <td>90</td>\n",
       "      <td>1</td>\n",
       "      <td>dispensed</td>\n",
       "      <td>50</td>\n",
       "      <td>mg</td>\n",
       "      <td>90</td>\n",
       "      <td>V3046573432409333612</td>\n",
       "    </tr>\n",
       "    <tr>\n",
       "      <th>1</th>\n",
       "      <td>ExactData Medical Health System</td>\n",
       "      <td>050312-01255</td>\n",
       "      <td>937650000-01</td>\n",
       "      <td>RX66597665</td>\n",
       "      <td>581395544</td>\n",
       "      <td>Family Health</td>\n",
       "      <td>2005-03-12T04:37:00Z</td>\n",
       "      <td>OMS 50</td>\n",
       "      <td>65689-001-21</td>\n",
       "      <td>via nasal cannula (contin)</td>\n",
       "      <td>4320</td>\n",
       "      <td>1</td>\n",
       "      <td>dispensed</td>\n",
       "      <td>6</td>\n",
       "      <td>h</td>\n",
       "      <td>1</td>\n",
       "      <td>C2819614934032019919</td>\n",
       "    </tr>\n",
       "    <tr>\n",
       "      <th>2</th>\n",
       "      <td>ExactData Medical Health System</td>\n",
       "      <td>050419-86521</td>\n",
       "      <td>937650000-01</td>\n",
       "      <td>RX29972012</td>\n",
       "      <td>125920412</td>\n",
       "      <td>Wegmans</td>\n",
       "      <td>2005-04-22T06:53:00Z</td>\n",
       "      <td>Hydrochlorothiazide</td>\n",
       "      <td>0172-2089-80</td>\n",
       "      <td>po qd</td>\n",
       "      <td>90</td>\n",
       "      <td>1</td>\n",
       "      <td>dispensed</td>\n",
       "      <td>50</td>\n",
       "      <td>mg</td>\n",
       "      <td>90</td>\n",
       "      <td>N6421143613871277479</td>\n",
       "    </tr>\n",
       "    <tr>\n",
       "      <th>3</th>\n",
       "      <td>ExactData Medical Health System</td>\n",
       "      <td>050826-36597</td>\n",
       "      <td>666214171-01</td>\n",
       "      <td>RX35391014</td>\n",
       "      <td>381663534</td>\n",
       "      <td>Apothecary Shop</td>\n",
       "      <td>2005-08-28T04:01:00Z</td>\n",
       "      <td>Prednisone</td>\n",
       "      <td>54569-0332-3</td>\n",
       "      <td>orally</td>\n",
       "      <td>20</td>\n",
       "      <td>1</td>\n",
       "      <td>dispensed</td>\n",
       "      <td>20</td>\n",
       "      <td>mg</td>\n",
       "      <td>20</td>\n",
       "      <td>L1660181935005579193</td>\n",
       "    </tr>\n",
       "    <tr>\n",
       "      <th>4</th>\n",
       "      <td>ExactData Medical Health System</td>\n",
       "      <td>050228-72970</td>\n",
       "      <td>666383984-01</td>\n",
       "      <td>RX45661465</td>\n",
       "      <td>152383446</td>\n",
       "      <td>Corner Drug Store</td>\n",
       "      <td>2005-03-03T19:42:00Z</td>\n",
       "      <td>protamine sulfate</td>\n",
       "      <td>63323-229-30</td>\n",
       "      <td>/90 units of heparin overdosage</td>\n",
       "      <td>1</td>\n",
       "      <td>1</td>\n",
       "      <td>dispensed</td>\n",
       "      <td>1</td>\n",
       "      <td>mg</td>\n",
       "      <td>1</td>\n",
       "      <td>U1554150386761469892</td>\n",
       "    </tr>\n",
       "  </tbody>\n",
       "</table>\n",
       "</div>"
      ],
      "text/plain": [
       "                      Provider_Org      Order_ID     Member_ID Prescription  \\\n",
       "0  ExactData Medical Health System  050630-23852  568001602-01   RX80452720   \n",
       "1  ExactData Medical Health System  050312-01255  937650000-01   RX66597665   \n",
       "2  ExactData Medical Health System  050419-86521  937650000-01   RX29972012   \n",
       "3  ExactData Medical Health System  050826-36597  666214171-01   RX35391014   \n",
       "4  ExactData Medical Health System  050228-72970  666383984-01   RX45661465   \n",
       "\n",
       "   Pharmacist_ID      Pharmacy_Name         Dispense_Date  \\\n",
       "0      523808810  Corner Drug Store  2005-07-02T00:14:00Z   \n",
       "1      581395544      Family Health  2005-03-12T04:37:00Z   \n",
       "2      125920412            Wegmans  2005-04-22T06:53:00Z   \n",
       "3      381663534    Apothecary Shop  2005-08-28T04:01:00Z   \n",
       "4      152383446  Corner Drug Store  2005-03-03T19:42:00Z   \n",
       "\n",
       "             Drug_Name      Drug_NDC                              Sig  \\\n",
       "0  Hydrochlorothiazide  0172-2089-80                            po qd   \n",
       "1               OMS 50  65689-001-21       via nasal cannula (contin)   \n",
       "2  Hydrochlorothiazide  0172-2089-80                            po qd   \n",
       "3           Prednisone  54569-0332-3                           orally   \n",
       "4    protamine sulfate  63323-229-30  /90 units of heparin overdosage   \n",
       "\n",
       "  Dispense_Qty  Fill_No Fill_Status Dose Units  Days_Of_Supply  \\\n",
       "0           90        1   dispensed   50    mg              90   \n",
       "1         4320        1   dispensed    6     h               1   \n",
       "2           90        1   dispensed   50    mg              90   \n",
       "3           20        1   dispensed   20    mg              20   \n",
       "4            1        1   dispensed    1    mg               1   \n",
       "\n",
       "           Encounter_ID  \n",
       "0  V3046573432409333612  \n",
       "1  C2819614934032019919  \n",
       "2  N6421143613871277479  \n",
       "3  L1660181935005579193  \n",
       "4  U1554150386761469892  "
      ]
     },
     "execution_count": 2,
     "metadata": {},
     "output_type": "execute_result"
    }
   ],
   "source": [
    "filename = 'C:/Users/Lenovo/Documents/medical-records-10-yrs/medication_fulfillment.csv'\n",
    "med_df = pd.read_csv(filename)\n",
    "med_df.head()"
   ]
  },
  {
   "cell_type": "markdown",
   "metadata": {},
   "source": [
    "## Understanding the Dataset"
   ]
  },
  {
   "cell_type": "code",
   "execution_count": 3,
   "metadata": {},
   "outputs": [
    {
     "name": "stdout",
     "output_type": "stream",
     "text": [
      "<class 'pandas.core.frame.DataFrame'>\n",
      "RangeIndex: 1176 entries, 0 to 1175\n",
      "Data columns (total 17 columns):\n",
      " #   Column          Non-Null Count  Dtype \n",
      "---  ------          --------------  ----- \n",
      " 0   Provider_Org    1176 non-null   object\n",
      " 1   Order_ID        1176 non-null   object\n",
      " 2   Member_ID       1176 non-null   object\n",
      " 3   Prescription    1176 non-null   object\n",
      " 4   Pharmacist_ID   1176 non-null   int64 \n",
      " 5   Pharmacy_Name   1176 non-null   object\n",
      " 6   Dispense_Date   1176 non-null   object\n",
      " 7   Drug_Name       1176 non-null   object\n",
      " 8   Drug_NDC        1176 non-null   object\n",
      " 9   Sig             1176 non-null   object\n",
      " 10  Dispense_Qty    1176 non-null   object\n",
      " 11  Fill_No         1176 non-null   int64 \n",
      " 12  Fill_Status     1176 non-null   object\n",
      " 13  Dose            1176 non-null   object\n",
      " 14  Units           1176 non-null   object\n",
      " 15  Days_Of_Supply  1176 non-null   int64 \n",
      " 16  Encounter_ID    1176 non-null   object\n",
      "dtypes: int64(3), object(14)\n",
      "memory usage: 156.3+ KB\n"
     ]
    }
   ],
   "source": [
    "med_df.info()"
   ]
  },
  {
   "cell_type": "code",
   "execution_count": 4,
   "metadata": {},
   "outputs": [
    {
     "data": {
      "text/plain": [
       "Provider_Org      0\n",
       "Order_ID          0\n",
       "Member_ID         0\n",
       "Prescription      0\n",
       "Pharmacist_ID     0\n",
       "Pharmacy_Name     0\n",
       "Dispense_Date     0\n",
       "Drug_Name         0\n",
       "Drug_NDC          0\n",
       "Sig               0\n",
       "Dispense_Qty      0\n",
       "Fill_No           0\n",
       "Fill_Status       0\n",
       "Dose              0\n",
       "Units             0\n",
       "Days_Of_Supply    0\n",
       "Encounter_ID      0\n",
       "dtype: int64"
      ]
     },
     "execution_count": 4,
     "metadata": {},
     "output_type": "execute_result"
    }
   ],
   "source": [
    "#checking for any missing values in the dataframe\n",
    "med_df.isnull().sum()"
   ]
  },
  {
   "cell_type": "code",
   "execution_count": 9,
   "metadata": {},
   "outputs": [
    {
     "data": {
      "image/png": "[encoded data removed]",
      "text/plain": [
       "<Figure size 720x720 with 1 Axes>"
      ]
     },
     "metadata": {
      "needs_background": "light"
     },
     "output_type": "display_data"
    }
   ],
   "source": [
    "##checking col Drug name to see possible labelencoding approach\n",
    "plt.figure(figsize=(10,10))\n",
    "med_df['Drug_Name'].value_counts().plot(kind='barh')\n",
    "plt.show()"
   ]
  },
  {
   "cell_type": "markdown",
   "metadata": {},
   "source": [
    "So, from above majority of Drugs used were OMS 50, Now lets check the fill status"
   ]
  },
  {
   "cell_type": "code",
   "execution_count": 10,
   "metadata": {},
   "outputs": [
    {
     "data": {
      "text/plain": [
       "array(['dispensed'], dtype=object)"
      ]
     },
     "execution_count": 10,
     "metadata": {},
     "output_type": "execute_result"
    }
   ],
   "source": [
    "med_df['Fill_Status'].unique()"
   ]
  },
  {
   "cell_type": "code",
   "execution_count": 16,
   "metadata": {},
   "outputs": [
    {
     "data": {
      "image/png": "[encoded data removed]",
      "text/plain": [
       "<Figure size 720x720 with 1 Axes>"
      ]
     },
     "metadata": {
      "needs_background": "light"
     },
     "output_type": "display_data"
    }
   ],
   "source": [
    "plt.figure(figsize=(10,10))\n",
    "med_df['Sig'].value_counts().plot(kind='barh')\n",
    "plt.show()"
   ]
  },
  {
   "cell_type": "code",
   "execution_count": 17,
   "metadata": {},
   "outputs": [
    {
     "data": {
      "image/png": "[encoded data removed]",
      "text/plain": [
       "<Figure size 720x720 with 1 Axes>"
      ]
     },
     "metadata": {
      "needs_background": "light"
     },
     "output_type": "display_data"
    }
   ],
   "source": [
    "plt.figure(figsize=(10,10))\n",
    "med_df['Days_Of_Supply'].value_counts().plot(kind='barh')\n",
    "plt.show()"
   ]
  },
  {
   "cell_type": "code",
   "execution_count": null,
   "metadata": {},
   "outputs": [],
   "source": []
  }
 ],
 "metadata": {
  "kernelspec": {
   "display_name": "Python 3",
   "language": "python",
   "name": "python3"
  },
  "language_info": {
   "codemirror_mode": {
    "name": "ipython",
    "version": 3
   },
   "file_extension": ".py",
   "mimetype": "text/x-python",
   "name": "python",
   "nbconvert_exporter": "python",
   "pygments_lexer": "ipython3",
   "version": "3.8.5"
  }
 },
 "nbformat": 4,
 "nbformat_minor": 4
}
